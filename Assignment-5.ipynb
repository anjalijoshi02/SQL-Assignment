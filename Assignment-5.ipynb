{
 "cells": [
  {
   "cell_type": "markdown",
   "id": "81613c5e",
   "metadata": {},
   "source": [
    "## SQL Assignment-5"
   ]
  },
  {
   "cell_type": "markdown",
   "id": "6918cf8d",
   "metadata": {},
   "source": [
    "#### Question 1 : Write an SQL query to print details of workers excluding first names, “Vipul” and “Satish” from Worker table.\n",
    "__Answer__: select * from Worker where FIRST_NAME not in ('Vipul','Satish')"
   ]
  },
  {
   "cell_type": "markdown",
   "id": "9a000c3f",
   "metadata": {},
   "source": [
    "#### Question 2 : Write an SQL query to print details of the Workers whose FIRST_NAME ends with ‘h’ and contains six alphabets.\n",
    "__Answer__: select  *  from Worker where FIRST_NAME like '_____h'"
   ]
  },
  {
   "cell_type": "markdown",
   "id": "d7573b1c",
   "metadata": {},
   "source": [
    "#### Question 3: Write a query to validate Email of Employee.\n",
    "__Answer__: select * from Worker where email like '_ % @ _ % . _'"
   ]
  }
 ],
 "metadata": {
  "kernelspec": {
   "display_name": "Python 3 (ipykernel)",
   "language": "python",
   "name": "python3"
  },
  "language_info": {
   "codemirror_mode": {
    "name": "ipython",
    "version": 3
   },
   "file_extension": ".py",
   "mimetype": "text/x-python",
   "name": "python",
   "nbconvert_exporter": "python",
   "pygments_lexer": "ipython3",
   "version": "3.9.12"
  }
 },
 "nbformat": 4,
 "nbformat_minor": 5
}
