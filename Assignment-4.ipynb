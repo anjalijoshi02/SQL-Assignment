{
 "cells": [
  {
   "cell_type": "markdown",
   "id": "91e77a9c",
   "metadata": {},
   "source": [
    "## SQL Assignment-4"
   ]
  },
  {
   "cell_type": "markdown",
   "id": "4cdb9a46",
   "metadata": {},
   "source": [
    "#### Question 1 : Write an SQL query to print the FIRST_NAME from Worker table after replacing ‘a’ with ‘A’.\n",
    "__Answer__: select replace(FIRST_NAME,'a','A') from Worker "
   ]
  },
  {
   "cell_type": "markdown",
   "id": "d2625042",
   "metadata": {},
   "source": [
    "#### Question 2 : Write an SQL query to print all Worker details from the Worker table order by FIRST_NAME Ascending and DEPARTMENT Descending.\n",
    "__Answer__: select * from Worker order by FIRST_NAME asc, LAST_NAME desc"
   ]
  },
  {
   "cell_type": "markdown",
   "id": "cab51e61",
   "metadata": {},
   "source": [
    "#### Question 3 : Write an SQL query to fetch the names of workers who earn the highest salary.\n",
    "__Answer__: select FIRST_NAME , LAST_NAME from Wroker where SALARY = (select max(SALARY) from Worker) "
   ]
  }
 ],
 "metadata": {
  "kernelspec": {
   "display_name": "Python 3 (ipykernel)",
   "language": "python",
   "name": "python3"
  },
  "language_info": {
   "codemirror_mode": {
    "name": "ipython",
    "version": 3
   },
   "file_extension": ".py",
   "mimetype": "text/x-python",
   "name": "python",
   "nbconvert_exporter": "python",
   "pygments_lexer": "ipython3",
   "version": "3.9.12"
  }
 },
 "nbformat": 4,
 "nbformat_minor": 5
}
