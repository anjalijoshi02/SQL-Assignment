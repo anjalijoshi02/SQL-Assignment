{
 "cells": [
  {
   "cell_type": "markdown",
   "id": "c6458992",
   "metadata": {},
   "source": [
    "## SQL Assignment-8"
   ]
  },
  {
   "cell_type": "markdown",
   "id": "c7c7a609",
   "metadata": {},
   "source": [
    "#### Question 1 : Write an SQL query to fetch intersecting records of two tables.\n",
    "__Answer__: select < column_names > from Table_1 intersect select < column_names > from Table_2"
   ]
  },
  {
   "cell_type": "markdown",
   "id": "060cd1c9",
   "metadata": {},
   "source": [
    "#### Question 2 : Write an SQL query to show records from one table that another table does not have.\n",
    "__Answer__: select * from Table_1 except select * from Table_2"
   ]
  }
 ],
 "metadata": {
  "kernelspec": {
   "display_name": "Python 3 (ipykernel)",
   "language": "python",
   "name": "python3"
  },
  "language_info": {
   "codemirror_mode": {
    "name": "ipython",
    "version": 3
   },
   "file_extension": ".py",
   "mimetype": "text/x-python",
   "name": "python",
   "nbconvert_exporter": "python",
   "pygments_lexer": "ipython3",
   "version": "3.9.12"
  }
 },
 "nbformat": 4,
 "nbformat_minor": 5
}
