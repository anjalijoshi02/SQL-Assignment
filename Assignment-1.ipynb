{
 "cells": [
  {
   "cell_type": "markdown",
   "id": "ec197e29",
   "metadata": {},
   "source": [
    "## SQL Assignment-1 "
   ]
  },
  {
   "cell_type": "markdown",
   "id": "783c3022",
   "metadata": {},
   "source": [
    "#### Question 1 : Write an SQL query to fetch “FIRST_NAME” from Worker table using the alias name as WORKER_NAME.\n",
    "__Answer__: select FIRST_NAME as WORKER_NAME from Worker"
   ]
  },
  {
   "cell_type": "markdown",
   "id": "9e5272fc",
   "metadata": {},
   "source": [
    "#### Question 2: Write an SQL query to fetch unique values of DEPARTMENT from Worker table.\n",
    "__Answer__: select distinct DEPARTMENT from Worker"
   ]
  },
  {
   "cell_type": "markdown",
   "id": "bb2d8aba",
   "metadata": {},
   "source": [
    "#### Question 3 : Write an SQL query to show the last 5 record from a table.\n",
    "__Answer__: select * from Worker order by id desc limit 5"
   ]
  }
 ],
 "metadata": {
  "kernelspec": {
   "display_name": "Python 3 (ipykernel)",
   "language": "python",
   "name": "python3"
  },
  "language_info": {
   "codemirror_mode": {
    "name": "ipython",
    "version": 3
   },
   "file_extension": ".py",
   "mimetype": "text/x-python",
   "name": "python",
   "nbconvert_exporter": "python",
   "pygments_lexer": "ipython3",
   "version": "3.9.12"
  }
 },
 "nbformat": 4,
 "nbformat_minor": 5
}
