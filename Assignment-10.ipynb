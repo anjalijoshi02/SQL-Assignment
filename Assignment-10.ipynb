{
 "cells": [
  {
   "cell_type": "markdown",
   "id": "edb0de31",
   "metadata": {},
   "source": [
    "## SQL Assignment -10"
   ]
  },
  {
   "cell_type": "markdown",
   "id": "c1675fcf",
   "metadata": {},
   "source": [
    "#### Question 1 : Write an SQL query to determine the 5th highest salary without using TOP or limit method.\n",
    "__Answer__: select * from (select ROW_NUMBER() over (order by SALARY desc) as R_NUM, FIRST_NAME, salary from EMPLOYEE) as HEllO where R_NUM=5;"
   ]
  },
  {
   "cell_type": "markdown",
   "id": "545d9a0b",
   "metadata": {},
   "source": [
    "#### Question 2: Write an SQL query to fetch the list of employees with the same salary.\n",
    "__Answer__: select * from EMPLOYEES order by SALARY"
   ]
  }
 ],
 "metadata": {
  "kernelspec": {
   "display_name": "Python 3 (ipykernel)",
   "language": "python",
   "name": "python3"
  },
  "language_info": {
   "codemirror_mode": {
    "name": "ipython",
    "version": 3
   },
   "file_extension": ".py",
   "mimetype": "text/x-python",
   "name": "python",
   "nbconvert_exporter": "python",
   "pygments_lexer": "ipython3",
   "version": "3.9.12"
  }
 },
 "nbformat": 4,
 "nbformat_minor": 5
}
