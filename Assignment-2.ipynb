{
 "cells": [
  {
   "cell_type": "markdown",
   "id": "ca08aacf",
   "metadata": {},
   "source": [
    "## SQL Assignment-2"
   ]
  },
  {
   "cell_type": "markdown",
   "id": "dd076faa",
   "metadata": {},
   "source": [
    "#### Question 1 : Write an SQL query to print the first three characters of  FIRST_NAME from Worker table.\n",
    "__Answer__: select substring(FIRST_NAME,1,3) from Worker"
   ]
  },
  {
   "cell_type": "markdown",
   "id": "c7c080c3",
   "metadata": {},
   "source": [
    "#### Question 2: Write an SQL query to find the position of the alphabet (‘a’) in the first name column ‘Amitabh’ from Worker table.\n",
    "__Answer__: select position('a' in FIRST_NAME) from Worker where FIRTS_NAME ='Amitabh'"
   ]
  },
  {
   "cell_type": "markdown",
   "id": "2aaadaf6",
   "metadata": {},
   "source": [
    "#### Question 3: Write an SQL query to print the name of employees having the highest salary in each department.\n",
    "__Answer__: select FIRST_NAME , LAST_NAME ,SALARY , DEPARTMENT from Worker w where SALARY =(select(max(SALARY) from Worker where DEPARTMENT = w.DEPARTMENT)"
   ]
  }
 ],
 "metadata": {
  "kernelspec": {
   "display_name": "Python 3 (ipykernel)",
   "language": "python",
   "name": "python3"
  },
  "language_info": {
   "codemirror_mode": {
    "name": "ipython",
    "version": 3
   },
   "file_extension": ".py",
   "mimetype": "text/x-python",
   "name": "python",
   "nbconvert_exporter": "python",
   "pygments_lexer": "ipython3",
   "version": "3.9.12"
  }
 },
 "nbformat": 4,
 "nbformat_minor": 5
}
