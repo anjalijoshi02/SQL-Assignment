{
 "cells": [
  {
   "cell_type": "markdown",
   "id": "912edd46",
   "metadata": {},
   "source": [
    "## SQL Assignment-7"
   ]
  },
  {
   "cell_type": "markdown",
   "id": "5c89e306",
   "metadata": {},
   "source": [
    "#### Question 1 : Write an SQL query to show only odd rows from a table.\n",
    "__Answer__: select * from Worker where mod(WORKER_ID,2)=1"
   ]
  },
  {
   "cell_type": "markdown",
   "id": "25c229d9",
   "metadata": {},
   "source": [
    "#### Question 2 : Write an SQL query to clone a new table from another table.\n",
    "__Answer__: \n",
    "Create a table \n",
    "\n",
    "                  \n",
    "create table Info_1( Name varchar(10) ,Age int , Course varchar(15))        \n",
    "           \n",
    "Clone the table\n",
    "\n",
    "insert into Info_1 select * from Info  \n",
    "(Info is an already existing table with columns Name, Age and Course)\n",
    "\n"
   ]
  }
 ],
 "metadata": {
  "kernelspec": {
   "display_name": "Python 3 (ipykernel)",
   "language": "python",
   "name": "python3"
  },
  "language_info": {
   "codemirror_mode": {
    "name": "ipython",
    "version": 3
   },
   "file_extension": ".py",
   "mimetype": "text/x-python",
   "name": "python",
   "nbconvert_exporter": "python",
   "pygments_lexer": "ipython3",
   "version": "3.9.12"
  }
 },
 "nbformat": 4,
 "nbformat_minor": 5
}
