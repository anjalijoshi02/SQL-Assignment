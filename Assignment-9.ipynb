{
 "cells": [
  {
   "cell_type": "markdown",
   "id": "4b8b629b",
   "metadata": {},
   "source": [
    "## SQL Assignment-9"
   ]
  },
  {
   "cell_type": "markdown",
   "id": "99ff5a11",
   "metadata": {},
   "source": [
    "#### Question 1: Write an SQL query to show the top n (say 10) records of a table.\n",
    "__Answer__: select * from Worker limit 10"
   ]
  },
  {
   "cell_type": "markdown",
   "id": "c98e1d67",
   "metadata": {},
   "source": [
    "#### Question 2 : Write an SQL query to determine the nth (say n=5) highest salary from a table.\n",
    "__Answer__:select distinct(SALARY) from Worker order by desc limit 1 offset 5"
   ]
  }
 ],
 "metadata": {
  "kernelspec": {
   "display_name": "Python 3 (ipykernel)",
   "language": "python",
   "name": "python3"
  },
  "language_info": {
   "codemirror_mode": {
    "name": "ipython",
    "version": 3
   },
   "file_extension": ".py",
   "mimetype": "text/x-python",
   "name": "python",
   "nbconvert_exporter": "python",
   "pygments_lexer": "ipython3",
   "version": "3.9.12"
  }
 },
 "nbformat": 4,
 "nbformat_minor": 5
}
