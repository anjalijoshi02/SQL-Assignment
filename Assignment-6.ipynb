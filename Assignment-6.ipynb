{
 "cells": [
  {
   "cell_type": "markdown",
   "id": "13ecadef",
   "metadata": {},
   "source": [
    "## SQL Assignment-6"
   ]
  },
  {
   "cell_type": "markdown",
   "id": "5f3f03c5",
   "metadata": {},
   "source": [
    "#### Question 1 : Write an SQL query to print details of the Workers who have joined in Feb’2014..\n",
    "__Answer__: select * from Worker where JOINING_DATE like '% 2014-02 %'\n"
   ]
  },
  {
   "cell_type": "markdown",
   "id": "18b4469d",
   "metadata": {},
   "source": [
    "#### Question 2: Write an SQL query to fetch duplicate records having matching data in some fields of a table.\n",
    "__Answer__: select column_name , count(column_name) from Worker group by field having count(column_name)>1"
   ]
  }
 ],
 "metadata": {
  "kernelspec": {
   "display_name": "Python 3 (ipykernel)",
   "language": "python",
   "name": "python3"
  },
  "language_info": {
   "codemirror_mode": {
    "name": "ipython",
    "version": 3
   },
   "file_extension": ".py",
   "mimetype": "text/x-python",
   "name": "python",
   "nbconvert_exporter": "python",
   "pygments_lexer": "ipython3",
   "version": "3.9.12"
  }
 },
 "nbformat": 4,
 "nbformat_minor": 5
}
