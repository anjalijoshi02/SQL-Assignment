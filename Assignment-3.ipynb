{
 "cells": [
  {
   "cell_type": "markdown",
   "id": "eb610131",
   "metadata": {},
   "source": [
    "## SQL Assignment-3"
   ]
  },
  {
   "cell_type": "markdown",
   "id": "aa0912ef",
   "metadata": {},
   "source": [
    "#### Question 1: Write an SQL query to print the FIRST_NAME from Worker table after removing white spaces from the right side.\n",
    "__Answer__: select rtrim(FIRST_NAME) from Worker"
   ]
  },
  {
   "cell_type": "markdown",
   "id": "aecc38a9",
   "metadata": {},
   "source": [
    "#### Question 2: Write an SQL query that fetches the unique values of DEPARTMENT from Worker table and prints its length.\n",
    "__Answer__: select distinct(DEPARTMENT) , len(DEPARTMENT) from Worker"
   ]
  },
  {
   "cell_type": "markdown",
   "id": "51df4de4",
   "metadata": {},
   "source": [
    "#### Question 3: Write an SQL query to fetch nth max salaries from a table.\n",
    "__Answer__: select distinct(SALARY) from Worker order by SALARY desc limit 1 offset n"
   ]
  }
 ],
 "metadata": {
  "kernelspec": {
   "display_name": "Python 3 (ipykernel)",
   "language": "python",
   "name": "python3"
  },
  "language_info": {
   "codemirror_mode": {
    "name": "ipython",
    "version": 3
   },
   "file_extension": ".py",
   "mimetype": "text/x-python",
   "name": "python",
   "nbconvert_exporter": "python",
   "pygments_lexer": "ipython3",
   "version": "3.9.12"
  }
 },
 "nbformat": 4,
 "nbformat_minor": 5
}
